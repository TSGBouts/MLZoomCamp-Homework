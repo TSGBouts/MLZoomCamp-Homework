{
 "cells": [
  {
   "cell_type": "code",
   "execution_count": 128,
   "id": "5e379f4b-57e3-4d68-a957-6582fde2ff3b",
   "metadata": {},
   "outputs": [],
   "source": [
    "import pandas as pd\n",
    "import numpy as np\n",
    "\n",
    "df = pd.read_csv('https://raw.githubusercontent.com/alexeygrigorev/datasets/master/car_fuel_efficiency.csv')"
   ]
  },
  {
   "cell_type": "code",
   "execution_count": 129,
   "id": "59b1e5a4-ddf6-4fa2-8f4a-679ea1249070",
   "metadata": {},
   "outputs": [
    {
     "data": {
      "text/plain": [
       "engine_displacement      0\n",
       "horsepower             708\n",
       "vehicle_weight           0\n",
       "model_year               0\n",
       "fuel_efficiency_mpg      0\n",
       "dtype: int64"
      ]
     },
     "execution_count": 129,
     "metadata": {},
     "output_type": "execute_result"
    }
   ],
   "source": [
    "df.columns\n",
    "used = ['engine_displacement', 'horsepower', 'vehicle_weight', 'model_year', 'fuel_efficiency_mpg']\n",
    "df_used = df[used]\n",
    "df_used.isnull().sum()"
   ]
  },
  {
   "cell_type": "code",
   "execution_count": 130,
   "id": "d9784e55-3bfe-44f4-920b-cdbc0c74c862",
   "metadata": {},
   "outputs": [
    {
     "data": {
      "text/plain": [
       "np.float64(149.0)"
      ]
     },
     "execution_count": 130,
     "metadata": {},
     "output_type": "execute_result"
    }
   ],
   "source": [
    "horsepower_median = df_used['horsepower'].median()\n",
    "horsepower_median"
   ]
  },
  {
   "cell_type": "code",
   "execution_count": 131,
   "id": "4a184fe7-8ca1-4199-b5f3-fe8a5c3e0183",
   "metadata": {},
   "outputs": [],
   "source": [
    "from sklearn.model_selection import train_test_split\n",
    "\n",
    "x_columns = ['engine_displacement', 'horsepower', 'vehicle_weight', 'model_year']\n",
    "y_column = 'fuel_efficiency_mpg'\n",
    "X = df_used[x_columns]\n",
    "y = df_used[y_column]\n",
    "X_full_train, X_test, y_full_train, y_test = train_test_split(X, y, test_size=0.2, random_state=42)\n",
    "X_train, X_val, y_train, y_val = train_test_split(X, y, test_size=0.2, random_state=42)"
   ]
  },
  {
   "cell_type": "code",
   "execution_count": 132,
   "id": "e9a2c5d1-6c90-403b-b3ac-3a259cc20393",
   "metadata": {},
   "outputs": [
    {
     "data": {
      "text/plain": [
       "0.5302460163624645"
      ]
     },
     "execution_count": 132,
     "metadata": {},
     "output_type": "execute_result"
    }
   ],
   "source": [
    "from sklearn.linear_model import LinearRegression\n",
    "from sklearn.metrics import root_mean_squared_error\n",
    "\n",
    "X_train['horsepower'] = X_train['horsepower'].fillna(0)\n",
    "X_val['horsepower'] = X_val['horsepower'].fillna(0)\n",
    "X_test['horsepower'] = X_test['horsepower'].fillna(0)\n",
    "\n",
    "reg_0 = LinearRegression().fit(X_train, y_train)\n",
    "y_pred = reg_0.predict(X_val)\n",
    "rmse_0 = root_mean_squared_error(y_val, y_pred)\n",
    "rmse_0"
   ]
  },
  {
   "cell_type": "code",
   "execution_count": 133,
   "id": "386f8c6e-a0cc-4a36-82c2-d006b439d84e",
   "metadata": {},
   "outputs": [
    {
     "data": {
      "text/plain": [
       "0.5302460163624645"
      ]
     },
     "execution_count": 133,
     "metadata": {},
     "output_type": "execute_result"
    }
   ],
   "source": [
    "X_train['horsepower'] = X_train['horsepower'].fillna(horsepower_median)\n",
    "X_val['horsepower'] = X_val['horsepower'].fillna(horsepower_median)\n",
    "X_test['horsepower'] = X_test['horsepower'].fillna(horsepower_median)\n",
    "\n",
    "reg_median = LinearRegression().fit(X_train, y_train)\n",
    "y_pred = reg_median.predict(X_val)\n",
    "rmse_median = root_mean_squared_error(y_val, y_pred)\n",
    "rmse_median"
   ]
  },
  {
   "cell_type": "code",
   "execution_count": 134,
   "id": "5fd86a0f-52ba-40da-8ac1-1feaa24c4daa",
   "metadata": {},
   "outputs": [
    {
     "data": {
      "text/plain": [
       "True"
      ]
     },
     "execution_count": 134,
     "metadata": {},
     "output_type": "execute_result"
    }
   ],
   "source": [
    "rmse_0 == rmse_median"
   ]
  },
  {
   "cell_type": "code",
   "execution_count": 135,
   "id": "ae5bc4e6-f9cb-46b6-a066-e2467a96bb0d",
   "metadata": {},
   "outputs": [
    {
     "data": {
      "text/plain": [
       "100"
      ]
     },
     "execution_count": 135,
     "metadata": {},
     "output_type": "execute_result"
    }
   ],
   "source": [
    "from sklearn.linear_model import Ridge\n",
    "\n",
    "rmse_scores = {}\n",
    "X_train['horsepower'] = X_train['horsepower'].fillna(0)\n",
    "X_val['horsepower'] = X_val['horsepower'].fillna(0)\n",
    "X_test['horsepower'] = X_test['horsepower'].fillna(0)\n",
    "\n",
    "for r in [0, 0.01, 0.1, 1, 5, 10, 100]:\n",
    "    model = Ridge(alpha=r, random_state=42)\n",
    "    model.fit(X_train, y_train)\n",
    "    y_pred = model.predict(X_val)\n",
    "    rmse = root_mean_squared_error(y_val, y_pred)\n",
    "    rmse_scores[r] = rmse\n",
    "best_r = min(rmse_scores, key=rmse_scores.get)\n",
    "best_r"
   ]
  },
  {
   "cell_type": "code",
   "execution_count": 136,
   "id": "b5c3c4e5-5df0-487d-b631-0c566bb00db5",
   "metadata": {},
   "outputs": [
    {
     "data": {
      "text/plain": [
       "np.float64(0.009)"
      ]
     },
     "execution_count": 136,
     "metadata": {},
     "output_type": "execute_result"
    }
   ],
   "source": [
    "rmses = {}\n",
    "\n",
    "for seed in [0, 1, 2, 3, 4, 5, 6, 7, 8, 9]:\n",
    "    X_full_train, X_test, y_full_train, y_test = train_test_split(X, y, test_size=0.2, random_state=seed)\n",
    "    X_train, X_val, y_train, y_val = train_test_split(X, y, test_size=0.2, random_state=seed)\n",
    "    X_train['horsepower'] = X_train['horsepower'].fillna(0)\n",
    "    X_val['horsepower'] = X_val['horsepower'].fillna(0)\n",
    "    X_test['horsepower'] = X_test['horsepower'].fillna(0)\n",
    "    model = LinearRegression().fit(X_train, y_train)\n",
    "    y_pred = model.predict(X_val)\n",
    "    rmse = root_mean_squared_error(y_val, y_pred)\n",
    "    rmse_scores[seed] = rmse\n",
    "rmse_std = np.std(list(rmse_scores.values()))\n",
    "round(rmse_std, 3)"
   ]
  },
  {
   "cell_type": "code",
   "execution_count": 137,
   "id": "67c7c0ff-9811-46c4-95ab-65d85c4c50ac",
   "metadata": {},
   "outputs": [
    {
     "data": {
      "text/plain": [
       "0.5210335981836984"
      ]
     },
     "execution_count": 137,
     "metadata": {},
     "output_type": "execute_result"
    }
   ],
   "source": [
    "X_full_train, X_test, y_full_train, y_test = train_test_split(X, y, test_size=0.2, random_state=9)\n",
    "X_full_train['horsepower'] = X_full_train['horsepower'].fillna(0)\n",
    "X_test['horsepower'] = X_test['horsepower'].fillna(0)\n",
    "model = Ridge(alpha=0.01, random_state=9)\n",
    "model.fit(X_full_train, y_train)\n",
    "y_pred = model.predict(X_test)\n",
    "rmse = root_mean_squared_error(y_val, y_pred)\n",
    "rmse"
   ]
  }
 ],
 "metadata": {
  "kernelspec": {
   "display_name": "Python 3 (ipykernel)",
   "language": "python",
   "name": "python3"
  },
  "language_info": {
   "codemirror_mode": {
    "name": "ipython",
    "version": 3
   },
   "file_extension": ".py",
   "mimetype": "text/x-python",
   "name": "python",
   "nbconvert_exporter": "python",
   "pygments_lexer": "ipython3",
   "version": "3.12.1"
  }
 },
 "nbformat": 4,
 "nbformat_minor": 5
}
